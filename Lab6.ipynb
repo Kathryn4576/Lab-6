{
 "cells": [
  {
   "cell_type": "code",
   "execution_count": 7,
   "id": "422f246d-780a-4236-96ad-9b253139a02b",
   "metadata": {},
   "outputs": [
    {
     "name": "stdin",
     "output_type": "stream",
     "text": [
      "Enter your name Francesca\n",
      "Enter your age 18\n"
     ]
    },
    {
     "name": "stdout",
     "output_type": "stream",
     "text": [
      "Francesca , you are 6570 days old and 157680 hours old.\n"
     ]
    }
   ],
   "source": [
    "name = input(\"Enter your name\")\n",
    "age = int(input(\"Enter your age\"))\n",
    "daily = (age*365)\n",
    "hourly = daily * 24\n",
    "print(name, \", you are\", daily, \"days old and\" , hourly, \"hours old.\")"
   ]
  },
  {
   "cell_type": "code",
   "execution_count": null,
   "id": "82a6f421-aef0-4d0f-aeb4-f88667801130",
   "metadata": {},
   "outputs": [],
   "source": []
  }
 ],
 "metadata": {
  "kernelspec": {
   "display_name": "Python 3 (ipykernel)",
   "language": "python",
   "name": "python3"
  },
  "language_info": {
   "codemirror_mode": {
    "name": "ipython",
    "version": 3
   },
   "file_extension": ".py",
   "mimetype": "text/x-python",
   "name": "python",
   "nbconvert_exporter": "python",
   "pygments_lexer": "ipython3",
   "version": "3.11.13"
  }
 },
 "nbformat": 4,
 "nbformat_minor": 5
}
