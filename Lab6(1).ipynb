{
 "cells": [
  {
   "cell_type": "code",
   "execution_count": 13,
   "id": "422f246d-780a-4236-96ad-9b253139a02b",
   "metadata": {},
   "outputs": [
    {
     "name": "stdin",
     "output_type": "stream",
     "text": [
      "Enter your name kat\n",
      "Enter your age 2\n"
     ]
    },
    {
     "name": "stdout",
     "output_type": "stream",
     "text": [
      "kat , you are 730 days old and 17520 hours old.\n"
     ]
    },
    {
     "name": "stdin",
     "output_type": "stream",
     "text": [
      "What month were you born in? April\n",
      "What day were you born on? 11\n"
     ]
    },
    {
     "name": "stdout",
     "output_type": "stream",
     "text": [
      "You are an Aries\n"
     ]
    }
   ],
   "source": [
    "name = input(\"Enter your name\")\n",
    "age = int(input(\"Enter your age\"))\n",
    "daily = (age*365)\n",
    "hourly = daily * 24\n",
    "print(name, \", you are\", daily, \"days old and\" , hourly, \"hours old.\")\n",
    "\n",
    "month = input(\"What month were you born in?\")\n",
    "day = int(input(\"What day were you born on?\"))\n",
    "\n",
    "if (month == \"January\" and day >= 20) or (month == \"February\" and day <= 18):\n",
    "    print(\"You are an Aquarius\")\n",
    "\n",
    "elif (month == \"February\" and day >= 19) or (month == \"March\" and day <= 20):\n",
    "    print(\"You are a Pisces\")\n",
    "\n",
    "elif (month == \"March\" and day >= 21) or (month == \"April\" and day <= 19):\n",
    "    print(\"You are an Aries\")\n",
    "\n",
    "elif (month == \"April\" and day >= 20) or (month == \"May\" and day <= 20):\n",
    "    print(\"You are a Taurus\")\n",
    "\n",
    "elif (month == \"May\" and day >= 21) or (month == \"June\" and day <= 20):\n",
    "    print(\"You are a Gemini\")\n",
    "\n",
    "elif (month == \"June\" and day >= 20) or (month == \"July\" and day <= 22):\n",
    "    print(\"You are a Cancer\")\n",
    "\n",
    "elif (month == \"July\" and day >= 23) or (month == \"August\" and day <= 22):\n",
    "    print(\"You are a Leo\")\n",
    "\n",
    "elif (month == \"August\" and day >= 23) or (month == \"September\" and day <= 22):\n",
    "    print(\"You are a Virgo\")\n",
    "\n",
    "elif (month == \"September\" and day >= 23) or (month == \"October\" and day <= 22):\n",
    "    print(\"You are a Libra\")\n",
    "\n",
    "elif (month == \"October\" and day >= 23) or (month == \"November\" and day <= 21):\n",
    "    print(\"You are a Scorpio\")\n",
    "\n",
    "elif (month == \"Novemver\" and day >= 22) or (month == \"December\" and day <= 21):\n",
    "    print(\"You are a Sagittarius\")\n",
    "\n",
    "elif (month == \"December\" and day >= 22) or (month == \"January\" and day <= 19):\n",
    "    print(\"You are a Capricorn\")"
   ]
  },
  {
   "cell_type": "code",
   "execution_count": null,
   "id": "82a6f421-aef0-4d0f-aeb4-f88667801130",
   "metadata": {},
   "outputs": [],
   "source": []
  }
 ],
 "metadata": {
  "kernelspec": {
   "display_name": "Python 3 (ipykernel)",
   "language": "python",
   "name": "python3"
  },
  "language_info": {
   "codemirror_mode": {
    "name": "ipython",
    "version": 3
   },
   "file_extension": ".py",
   "mimetype": "text/x-python",
   "name": "python",
   "nbconvert_exporter": "python",
   "pygments_lexer": "ipython3",
   "version": "3.11.13"
  }
 },
 "nbformat": 4,
 "nbformat_minor": 5
}
